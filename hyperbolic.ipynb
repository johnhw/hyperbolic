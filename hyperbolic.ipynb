{
 "cells": [
  {
   "cell_type": "markdown",
   "metadata": {},
   "source": [
    "## Simple hyperbolic operations\n",
    "\n",
    "Computations derived from [\"Hyperbolic Image Embeddings\" by *Valentin Khrulkov, Leyla Mirvakhabova, Evgeniya Ustinova,\n",
    "Ivan Oseledets Victor Lempitsky*](https://arxiv.org/pdf/1904.02239.pdf) v1\n",
    "\n",
    "$$\\renewcommand{\\vec}[1]{{\\bf #1} }$$"
   ]
  },
  {
   "cell_type": "markdown",
   "metadata": {},
   "source": [
    "## Pure hyperbolic (no c) vector addition\n",
    "$$d_\\mathbb{D}(\\vec{x}, \\vec{y}) = \\operatorname{arccosh}\\left(1+2\n",
    "\\frac\n",
    "    {\\|\\vec{x}-\\vec{y}\\|^2}\n",
    "    {(1-\\|\\vec{x}\\|^2)(1-\\|\\vec{y}\\|^2)}\n",
    "    \\right)$$"
   ]
  },
  {
   "cell_type": "code",
   "execution_count": 184,
   "metadata": {},
   "outputs": [],
   "source": [
    "import numpy as np\n",
    "\n",
    "def norm(x):\n",
    "    if np.iterable(x):\n",
    "        return np.linalg.norm(x, axis=-1)\n",
    "    else:\n",
    "        return np.abs(x)\n",
    "\n",
    "def norm_sq(x):\n",
    "    return norm(x)**2\n",
    "\n",
    "def d_hyperbolic(x, y):\n",
    "    return np.arccosh(1 + 2 * (norm_sq(x - y) / ((1 - norm_sq(x)) * (1 - norm_sq(y)))))"
   ]
  },
  {
   "cell_type": "code",
   "execution_count": 195,
   "metadata": {},
   "outputs": [
    {
     "data": {
      "text/plain": [
       "1.5678231619693916"
      ]
     },
     "execution_count": 195,
     "metadata": {},
     "output_type": "execute_result"
    }
   ],
   "source": [
    "x = np.array([0.5, 0.2])\n",
    "y = np.array([0.3, -0.4])\n",
    "\n",
    "d_hyperbolic(x, y)"
   ]
  },
  {
   "cell_type": "markdown",
   "metadata": {},
   "source": [
    "## Hyperbolic Mobius addition\n",
    "$$\\vec{x} \\oplus_c \\vec{y} := \\frac{\\left(1 + 2c \\langle \\vec{x}, \\vec{y} \\rangle + c \\|\\vec{y} \\|^2\\right)\\vec{x} + \\left(1-c\\| \\vec{x} \\|^2\\right)\\vec{y}}\n",
    "{1+2c\\langle \\vec{x},\\vec{y} \\rangle + c^2\\|\\vec{x}\\|^2\\|\\vec{y}\\|^2}$$"
   ]
  },
  {
   "cell_type": "code",
   "execution_count": 196,
   "metadata": {},
   "outputs": [],
   "source": [
    "def mobius_add_c(x, y, c):\n",
    "    num = (1 + 2 * c * np.dot(x, y.T) + c * norm_sq(y)) * x + (1 - c * norm_sq(x)) * y\n",
    "    den = 1 + 2 * c * np.dot(x, y.T) + c ** 2 * norm_sq(x) * norm_sq(y)\n",
    "    return num / den"
   ]
  },
  {
   "cell_type": "code",
   "execution_count": 197,
   "metadata": {},
   "outputs": [
    {
     "data": {
      "text/plain": [
       "array([ 0.79965746, -0.18894315])"
      ]
     },
     "execution_count": 197,
     "metadata": {},
     "output_type": "execute_result"
    }
   ],
   "source": [
    "mobius_add_c(x, y, c=0.05)"
   ]
  },
  {
   "cell_type": "markdown",
   "metadata": {},
   "source": [
    "## Hyperbolic distance\n",
    "$$d_c(\\vec{x}, \\vec{y}) := \\frac{2}{\\sqrt{c}} \\operatorname{arctanh}\\left(\\sqrt{c}\\|-\\vec{x}\\oplus_c\\vec{y}\\|\\right)$$"
   ]
  },
  {
   "cell_type": "code",
   "execution_count": 198,
   "metadata": {},
   "outputs": [],
   "source": [
    "def distance_c(x, y, c):\n",
    "    cs = np.sqrt(c)\n",
    "    return 2 / cs * np.arctanh(cs * np.linalg.norm(mobius_add_c(-x, y, c), axis=-1))"
   ]
  },
  {
   "cell_type": "code",
   "execution_count": 199,
   "metadata": {},
   "outputs": [
    {
     "data": {
      "text/plain": [
       "1.5678231619693914"
      ]
     },
     "execution_count": 199,
     "metadata": {},
     "output_type": "execute_result"
    }
   ],
   "source": [
    "distance_c(x, y, c=1.0)"
   ]
  },
  {
   "cell_type": "markdown",
   "metadata": {},
   "source": [
    "## Hyperbolic exponential map\n",
    "$$\\lambda_\\vec{x}^c = \\frac{2}{1-c\\|\\vec{x}\\|^2}$$\n",
    "$$\\exp_x^c(\\vec{v}) := \\vec{x} \\oplus_c \\left( \\operatorname{tanh} \n",
    "                                                \\left( \\sqrt{c} \\frac{\\lambda_x^c \\|\\vec{v}\\|}{2} \\right)        \n",
    "                                                \\frac{\\vec{v}}{\\sqrt{c}\\| \\vec{v} \\|} \\right)$$\n",
    "                                                               "
   ]
  },
  {
   "cell_type": "code",
   "execution_count": 200,
   "metadata": {},
   "outputs": [],
   "source": [
    "def lambda_c(x, c):\n",
    "    return 2 / (1 - c * norm_sq(x))"
   ]
  },
  {
   "cell_type": "code",
   "execution_count": 201,
   "metadata": {},
   "outputs": [
    {
     "data": {
      "text/plain": [
       "2.0294266869609334"
      ]
     },
     "execution_count": 201,
     "metadata": {},
     "output_type": "execute_result"
    }
   ],
   "source": [
    "lambda_c(x, c=0.05)"
   ]
  },
  {
   "cell_type": "code",
   "execution_count": 202,
   "metadata": {},
   "outputs": [],
   "source": [
    "def exp_c(x, v, c):\n",
    "    cs = np.sqrt(c)    \n",
    "    norm_v = norm(v)\n",
    "    l = lambda_c(x, c)\n",
    "    return mobius_add_c(x, np.tanh(cs * l * norm_v / 2.0) * v / (cs * norm_v), c=c)"
   ]
  },
  {
   "cell_type": "code",
   "execution_count": 203,
   "metadata": {},
   "outputs": [
    {
     "data": {
      "text/plain": [
       "array([ 0.80280977, -0.1929258 ])"
      ]
     },
     "execution_count": 203,
     "metadata": {},
     "output_type": "execute_result"
    }
   ],
   "source": [
    "exp_c(x, y, c=0.05)"
   ]
  },
  {
   "cell_type": "code",
   "execution_count": 204,
   "metadata": {},
   "outputs": [
    {
     "data": {
      "text/plain": [
       "array([0.59972979, 0.29988087])"
      ]
     },
     "execution_count": 204,
     "metadata": {},
     "output_type": "execute_result"
    }
   ],
   "source": [
    "exp_c(x, 0.1, c=0.05)"
   ]
  },
  {
   "cell_type": "markdown",
   "metadata": {},
   "source": [
    "## Hyperbolic logarithmic map\n",
    "$$\\log_\\vec{x}^c := \\frac{2}{\\sqrt{c}\\lambda^c_\\vec{x}}\n",
    "\\operatorname{arctanh}\\left(\\sqrt{c}\\|-\\vec{x} \\oplus_c \\vec{y}\\|\\right)\n",
    "\\frac{-\\vec{x}\\oplus_c\\vec{y}}\n",
    "{\\|-\\vec{x}\\oplus_c\\vec{y}}\n",
    "$$"
   ]
  },
  {
   "cell_type": "code",
   "execution_count": 205,
   "metadata": {},
   "outputs": [],
   "source": [
    "def log_c(x, y, c):\n",
    "    cs = np.sqrt(c)\n",
    "    neg_plus = mobius_add(-x, y, c=c)\n",
    "    norm_plus = np.linalg.norm(neg_plus, axis=-1)\n",
    "    l = lambda_c(x, c)\n",
    "    return (2 / (cs * l)) * np.arctanh(cs * norm_plus) * (neg_plus / norm_plus)"
   ]
  },
  {
   "cell_type": "code",
   "execution_count": 206,
   "metadata": {},
   "outputs": [
    {
     "data": {
      "text/plain": [
       "array([-0.2068946 , -0.59470957])"
      ]
     },
     "execution_count": 206,
     "metadata": {},
     "output_type": "execute_result"
    }
   ],
   "source": [
    "log_c(x, y, c=0.05)"
   ]
  },
  {
   "cell_type": "markdown",
   "metadata": {},
   "source": [
    "## Hyperbolic matrix-vector product\n",
    "\n",
    "$$M^{\\otimes_c}(\\vec{x}) := \\frac{1}{\\sqrt{c}}\n",
    "\\tanh \\left(  \n",
    "    \\frac{\\|M\\vec{x}\\|}{\\|\\vec{x}\\|}\n",
    "    \\operatorname{arctanh}(\\sqrt{c}\\|\\vec{x}\\|\n",
    "\\right)\n",
    "    \\frac{M\\vec{x}}{\\|M\\vec{x}\\|}\n",
    "$$"
   ]
  },
  {
   "cell_type": "code",
   "execution_count": 207,
   "metadata": {},
   "outputs": [],
   "source": [
    "def mmul_c(M, x, c):\n",
    "    cs = np.sqrt(c)\n",
    "    norm_x = np.linalg.norm(x)\n",
    "    Mx = M @ x\n",
    "    norm_mx = np.linalg.norm(Mx)\n",
    "    return (\n",
    "        (1 / cs)\n",
    "        * np.tanh((norm_mx / norm_x) * np.arctanh(cs * norm_x))\n",
    "        * (Mx / norm_mx)\n",
    "    )"
   ]
  },
  {
   "cell_type": "code",
   "execution_count": 208,
   "metadata": {},
   "outputs": [
    {
     "data": {
      "text/plain": [
       "array([ 0.51985663, -0.18994761])"
      ]
     },
     "execution_count": 208,
     "metadata": {},
     "output_type": "execute_result"
    }
   ],
   "source": [
    "M = np.array([[1.0, 0.1], [-0.5, 0.3]])\n",
    "mmul_c(M, x, c=0.05)"
   ]
  },
  {
   "cell_type": "markdown",
   "metadata": {},
   "source": [
    "## Hyperbolic averaging\n",
    "\n",
    "$$\\operatorname{HypAve}(\\vec{x_1}\\dots,\\vec{x_N}) = \\sum_{i=1}^{N} \\gamma_i \\vec{x}_i / \\sum_{i=1}^N\\gamma_i$$\n",
    "$$\\gamma_i = \\frac{1}{\\sqrt{1-c\\|\\vec{x_i}\\|^2}}$$"
   ]
  },
  {
   "cell_type": "code",
   "execution_count": 209,
   "metadata": {},
   "outputs": [],
   "source": [
    "def gamma_c(x_i, c):\n",
    "    return 1 / np.sqrt(1 - c * norm_sq(x_i))"
   ]
  },
  {
   "cell_type": "code",
   "execution_count": 210,
   "metadata": {},
   "outputs": [
    {
     "data": {
      "text/plain": [
       "1.007329808692499"
      ]
     },
     "execution_count": 210,
     "metadata": {},
     "output_type": "execute_result"
    }
   ],
   "source": [
    "gamma_c(x, c=0.05)"
   ]
  },
  {
   "cell_type": "code",
   "execution_count": 211,
   "metadata": {},
   "outputs": [],
   "source": [
    "def hyp_ave(xs, c):\n",
    "    xs = np.array(xs)\n",
    "    gammas = gamma_c(xs, c)\n",
    "    return np.sum(gammas * xs, axis=0) / np.sum(gammas, axis=0)"
   ]
  },
  {
   "cell_type": "code",
   "execution_count": 212,
   "metadata": {},
   "outputs": [
    {
     "data": {
      "text/plain": [
       "array([ 0.40020274, -0.09994932])"
      ]
     },
     "execution_count": 212,
     "metadata": {},
     "output_type": "execute_result"
    }
   ],
   "source": [
    "hyp_ave([x,y], c=0.05)"
   ]
  },
  {
   "cell_type": "markdown",
   "metadata": {},
   "source": [
    "## Conversion to/from Klein/Poincaré representation\n",
    "\n",
    "$$\\vec{x}_\\mathbb{D} = \\frac{\\vec{x}_\\mathbb{K}}\n",
    "{1 + \\sqrt{1- c \\| \\vec{x}_\\mathbb{K}\\|^2}}$$\n",
    "\n",
    "$$\\vec{x}_\\mathbb{K} = \\frac{2\\vec{x}_\\mathbb{D}}\n",
    "{1 + c \\| \\vec{x}_\\mathbb{D}^2}$$"
   ]
  },
  {
   "cell_type": "code",
   "execution_count": 213,
   "metadata": {},
   "outputs": [],
   "source": [
    "def to_poincare(xk, c):\n",
    "    return xk / (1 + np.sqrt(1 - c * norm_sq(xk)))\n",
    "\n",
    "\n",
    "def to_klein(xd, c):\n",
    "    return (2 * xd) / (1 + c * norm_sq(xd))"
   ]
  },
  {
   "cell_type": "markdown",
   "metadata": {},
   "source": [
    "## Hyperbolic multiclass logistic regression\n",
    "\n",
    "$$p(y=k|\\vec{x}) \\propto \n",
    "\\exp\\left(\n",
    "    \\frac{\\lambda_{\\vec{p_k}}^c \\|\\vec{a_k}\\|} \n",
    "    {\\sqrt{c}}\n",
    "    \\operatorname{arcsinh}\\left(\n",
    "        \\frac{2 \\sqrt{c} \\langle -\\vec{p_k} \\oplus \\vec{x}, \\vec{a_k}\\rangle}\n",
    "        {(1-c\\|-\\vec{p_k} \\oplus_c \\vec{x}\\|^2) \\|\\vec{a_k}\\|}\n",
    "        \\right)    \n",
    "    \\right)\n",
    "$$"
   ]
  },
  {
   "cell_type": "code",
   "execution_count": 214,
   "metadata": {},
   "outputs": [],
   "source": [
    "def multiclass_logit_c(x, ak, pk, c):\n",
    "    cs = np.sqrrt(c)\n",
    "    norm_ak = np.linalg.norm(ak, axis=-1)\n",
    "    pk_diff = mobius_add_c(-pk, x)\n",
    "    pk_diff_norm_sq = norm_sq(pk_diff)\n",
    "    \n",
    "    lambda_pk = lambda_c(pk, c)\n",
    "    return np.exp(((lambda_pk * norm_ak) / cs) * \n",
    "           np.arcsinh((2 * cs * np.dot(pk_diff, ak)) / ((1-c*pk_diff_norm_sq)*norm_ak)))\n",
    "\n"
   ]
  },
  {
   "cell_type": "code",
   "execution_count": 215,
   "metadata": {},
   "outputs": [
    {
     "data": {
      "text/plain": [
       "array([0.98570724, 0.3942829 ])"
      ]
     },
     "execution_count": 215,
     "metadata": {},
     "output_type": "execute_result"
    }
   ],
   "source": [
    "to_klein(x, c=0.05)"
   ]
  },
  {
   "cell_type": "code",
   "execution_count": 216,
   "metadata": {},
   "outputs": [
    {
     "data": {
      "text/plain": [
       "array([0.5, 0.2])"
      ]
     },
     "execution_count": 216,
     "metadata": {},
     "output_type": "execute_result"
    }
   ],
   "source": [
    "to_poincare(to_klein(x, c=0.05), c=0.05)"
   ]
  },
  {
   "cell_type": "code",
   "execution_count": 217,
   "metadata": {},
   "outputs": [],
   "source": [
    "class Hyperbolic:\n",
    "    \"\"\"Package all operations into a single object\n",
    "    with a common setting for the parameter c\"\"\"\n",
    "    \n",
    "    def __init__(self, c=0.05):\n",
    "        self.c = c\n",
    "\n",
    "    def add(self, x, y):\n",
    "        return mobius_add_c( x, y, c=self.c)\n",
    "    \n",
    "    def concat(self, x, y):\n",
    "        M1 = np.eye(len(x))\n",
    "        M2 = np.eye(len(y))\n",
    "\n",
    "    def distance(self, x, y):\n",
    "        return distance_c(x, y, c=self.c)\n",
    "\n",
    "    def _lambda(self, x):\n",
    "        return lambda_c(x, c=self.c)\n",
    "\n",
    "    def _gamma(self, x):\n",
    "        return gamma_c(x, c=self.c)\n",
    "\n",
    "    def dot(self, M, x):\n",
    "        return mmul_c(M, x, c=self.c)\n",
    "\n",
    "    def exp(self, x, v):\n",
    "        return exp_c(x, v, c=self.c)\n",
    "\n",
    "    def log(self, x, v):\n",
    "        return log_c(x, v, c=self.c)\n",
    "\n",
    "    def mean(self, xs):\n",
    "        return hyp_ave(xs, c=self.c)\n",
    "\n",
    "    def poincare(self, x):\n",
    "        return to_poincare(x, c=self.c)\n",
    "\n",
    "    def klein(self, x):\n",
    "        return to_klein(x, c=self.c)\n",
    "    \n",
    "    def from_euclidean(self, x):\n",
    "        return self.exp(np.zeros_like(x), x)\n",
    "    \n",
    "    def to_euclidean(self, x):\n",
    "        return self.log(np.zeros_like(x), x)\n",
    "    "
   ]
  },
  {
   "cell_type": "code",
   "execution_count": 218,
   "metadata": {},
   "outputs": [
    {
     "data": {
      "text/plain": [
       "array([1.01707999, 0.        ])"
      ]
     },
     "execution_count": 218,
     "metadata": {},
     "output_type": "execute_result"
    }
   ],
   "source": [
    "h = Hyperbolic()\n",
    "h.to_euclidean(np.array([0.9999, 0.0]))"
   ]
  },
  {
   "cell_type": "code",
   "execution_count": 219,
   "metadata": {},
   "outputs": [],
   "source": [
    "import matplotlib as mpl\n",
    "import matplotlib.pyplot as plt\n",
    "%matplotlib inline"
   ]
  },
  {
   "cell_type": "code",
   "execution_count": 241,
   "metadata": {},
   "outputs": [
    {
     "data": {
      "image/png": "[encoded data removed]",
      "text/plain": [
       "<Figure size 432x288 with 1 Axes>"
      ]
     },
     "metadata": {
      "needs_background": "light"
     },
     "output_type": "display_data"
    }
   ],
   "source": [
    "from matplotlib.patches import Circle\n",
    "\n",
    "def poincare_axis(ax):\n",
    "    ax.set_aspect(1.0)    \n",
    "    ax.add_patch(Circle(xy=(0,0), radius=1.0, lw=2, edgecolor='black', facecolor='none'))\n",
    "    ax.set_xlim(-1.1, 1.1)\n",
    "    ax.set_ylim(-1.1, 1.1)    \n",
    "    \n",
    "    \n",
    "    h = Hyperbolic(c=1)\n",
    "    \n",
    "    x = np.array([0.0,0.0])\n",
    "    for i in range(10):\n",
    "        x = h.add(x, np.array([0.15,0]))                         \n",
    "        ax.add_patch(Circle(xy=(0,0), radius=x[0], lw=1, edgecolor='black', facecolor='none', alpha=0.25*(1.0-x[0])))\n",
    "       \n",
    "        \n",
    "    \n",
    "    \n",
    "    ax.axis(\"off\")\n",
    "    \n",
    "    \n",
    "fig, ax = plt.subplots(1)    \n",
    "poincare_axis(ax)\n",
    "\n",
    "\n",
    "x = np.array([-0.59,0.4])\n",
    "dx = np.array([0.09, 0.01])*0.1\n",
    "h = Hyperbolic(c=1)\n",
    "\n",
    "for i in range(400):\n",
    "    ax.plot(x[0], x[1], 'k.')\n",
    "    x = h.add(x, dx)\n",
    "    dx = dx - dx[::-1] * -0.0001\n",
    "    \n",
    "    "
   ]
  },
  {
   "cell_type": "code",
   "execution_count": null,
   "metadata": {},
   "outputs": [],
   "source": []
  }
 ],
 "metadata": {
  "kernelspec": {
   "display_name": "Python 3",
   "language": "python",
   "name": "python3"
  },
  "language_info": {
   "codemirror_mode": {
    "name": "ipython",
    "version": 3
   },
   "file_extension": ".py",
   "mimetype": "text/x-python",
   "name": "python",
   "nbconvert_exporter": "python",
   "pygments_lexer": "ipython3",
   "version": "3.7.1"
  },
  "varInspector": {
   "cols": {
    "lenName": 16,
    "lenType": 16,
    "lenVar": 40
   },
   "kernels_config": {
    "python": {
     "delete_cmd_postfix": "",
     "delete_cmd_prefix": "del ",
     "library": "var_list.py",
     "varRefreshCmd": "print(var_dic_list())"
    },
    "r": {
     "delete_cmd_postfix": ") ",
     "delete_cmd_prefix": "rm(",
     "library": "var_list.r",
     "varRefreshCmd": "cat(var_dic_list()) "
    }
   },
   "types_to_exclude": [
    "module",
    "function",
    "builtin_function_or_method",
    "instance",
    "_Feature"
   ],
   "window_display": false
  }
 },
 "nbformat": 4,
 "nbformat_minor": 2
}
